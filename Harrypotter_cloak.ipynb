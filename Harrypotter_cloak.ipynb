{
 "cells": [
  {
   "cell_type": "code",
   "execution_count": 1,
   "metadata": {},
   "outputs": [],
   "source": [
    "import cv2\n",
    "import numpy as np"
   ]
  },
  {
   "cell_type": "code",
   "execution_count": 2,
   "metadata": {},
   "outputs": [],
   "source": [
    "cap = cv2.VideoCapture(0)\n",
    "\n",
    "back = cv2.imread(\"./background_picture.jpg\")\n",
    "\n",
    "while cap.isOpened():\n",
    "    ret , frame = cap.read()\n",
    "    \n",
    "    if(ret):\n",
    "        hsv = cv2.cvtColor(frame, cv2.COLOR_BGR2HSV)\n",
    "#         cv2.imshow(\"hsv\", hsv)\n",
    "        \n",
    "        red = np.uint8([[[0,0,255]]])\n",
    "        hsv_red = cv2.cvtColor(red , cv2.COLOR_BGR2HSV)\n",
    "        \n",
    "        low_red = np.array([0,100,100])\n",
    "        high_red = np.array([10,255,255])\n",
    "        \n",
    "        mask = cv2.inRange(hsv, low_red, high_red)\n",
    "        \n",
    "        \n",
    "        ignore_cloak = cv2.bitwise_and(back, back, mask=mask)\n",
    "        \n",
    "        mask = cv2.bitwise_not(mask)\n",
    "        \n",
    "        backg = cv2.bitwise_and(frame, frame, mask =mask)\n",
    "        \n",
    "        dilation = cv2.dilate(ignore_cloak + backg , hsv_red, iterations = 1)\n",
    "        closing = cv2.morphologyEx(ignore_cloak + backg , cv2.MORPH_CLOSE, hsv_red)\n",
    "        gradient = cv2.morphologyEx(ignore_cloak + backg , cv2.MORPH_GRADIENT, hsv_red)\n",
    "\n",
    "        cv2.imshow(\"part2\", ignore_cloak + backg)\n",
    "        \n",
    "        \n",
    "        if(cv2.waitKey(1) == ord(\"q\")):\n",
    "            break\n",
    "cap.release()\n",
    "cv2.destroyAllWindows()"
   ]
  },
  {
   "cell_type": "code",
   "execution_count": null,
   "metadata": {},
   "outputs": [],
   "source": []
  }
 ],
 "metadata": {
  "kernelspec": {
   "display_name": "Python 3",
   "language": "python",
   "name": "python3"
  },
  "language_info": {
   "codemirror_mode": {
    "name": "ipython",
    "version": 3
   },
   "file_extension": ".py",
   "mimetype": "text/x-python",
   "name": "python",
   "nbconvert_exporter": "python",
   "pygments_lexer": "ipython3",
   "version": "3.7.6"
  }
 },
 "nbformat": 4,
 "nbformat_minor": 4
}
